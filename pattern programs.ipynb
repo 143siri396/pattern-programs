{
 "cells": [
  {
   "cell_type": "code",
   "execution_count": 1,
   "id": "b8085818",
   "metadata": {},
   "outputs": [
    {
     "name": "stdout",
     "output_type": "stream",
     "text": [
      "*\n",
      "**\n",
      "***\n",
      "****\n",
      "*****\n"
     ]
    }
   ],
   "source": [
    "#right half pyramid\n",
    "n=5\n",
    "for i in range(1,n+1):\n",
    "    print(i*\"*\")"
   ]
  },
  {
   "cell_type": "code",
   "execution_count": 7,
   "id": "89d59939",
   "metadata": {},
   "outputs": [
    {
     "name": "stdout",
     "output_type": "stream",
     "text": [
      "*****\n",
      "****\n",
      "***\n",
      "**\n",
      "*\n"
     ]
    }
   ],
   "source": [
    "#inverted half pyramid\n",
    "n=5\n",
    "for i in range(n,0,-1):\n",
    "    print(i*\"*\")"
   ]
  },
  {
   "cell_type": "code",
   "execution_count": 10,
   "id": "5e9ad74a",
   "metadata": {},
   "outputs": [
    {
     "name": "stdout",
     "output_type": "stream",
     "text": [
      "    *\n",
      "   **\n",
      "  ***\n",
      " ****\n",
      "*****\n"
     ]
    }
   ],
   "source": [
    "#left half pyramid\n",
    "n=5\n",
    "for i in range(1,n+1):\n",
    "    print(\" \"*(n-i)+i*\"*\")"
   ]
  },
  {
   "cell_type": "code",
   "execution_count": 16,
   "id": "945b1d3b",
   "metadata": {},
   "outputs": [
    {
     "name": "stdout",
     "output_type": "stream",
     "text": [
      "    *\n",
      "   ***\n",
      "  *****\n",
      " *******\n",
      "*********\n"
     ]
    }
   ],
   "source": [
    "#full pyramid\n",
    "n=5\n",
    "for i in range(1,n+1):\n",
    "    print(\" \"*(n-i),end=\"\")\n",
    "    print(\"*\"*(2*i-1))"
   ]
  },
  {
   "cell_type": "code",
   "execution_count": 19,
   "id": "2d7b38e1",
   "metadata": {},
   "outputs": [
    {
     "name": "stdout",
     "output_type": "stream",
     "text": [
      "*****\n",
      " ****\n",
      "  ***\n",
      "   **\n",
      "    *\n"
     ]
    }
   ],
   "source": [
    "#inverted left hand pyramid\n",
    "n=5\n",
    "for i in range(n,0,-1):\n",
    "    print(\" \"*(n-i)+i*\"*\")\n",
    "    "
   ]
  },
  {
   "cell_type": "code",
   "execution_count": 20,
   "id": "d970b9a2",
   "metadata": {},
   "outputs": [
    {
     "name": "stdout",
     "output_type": "stream",
     "text": [
      "*********\n",
      " *******\n",
      "  *****\n",
      "   ***\n",
      "    *\n"
     ]
    }
   ],
   "source": [
    "#inverted full pyramid\n",
    "n=5\n",
    "for i in range(n,0,-1):\n",
    "    print(\" \"*(n-i),end=\"\")\n",
    "    print(\"*\"*(2*i-1))"
   ]
  },
  {
   "cell_type": "code",
   "execution_count": 74,
   "id": "a81a14e6",
   "metadata": {},
   "outputs": [
    {
     "name": "stdout",
     "output_type": "stream",
     "text": [
      " *********\n",
      "  *********\n",
      "   *********\n",
      "    *********\n",
      "     *********\n"
     ]
    }
   ],
   "source": [
    "#rhombus pattern\n",
    "n=5\n",
    "for i in range(1,n+1):\n",
    "    print(\" \"*(2*i-i)+(2*n-1)*\"*\")\n",
    "    "
   ]
  },
  {
   "cell_type": "code",
   "execution_count": 36,
   "id": "469f3067",
   "metadata": {},
   "outputs": [
    {
     "name": "stdout",
     "output_type": "stream",
     "text": [
      "   *\n",
      "  ***\n",
      " *****\n",
      "*******\n",
      " *****\n",
      "  ***\n",
      "   *\n"
     ]
    }
   ],
   "source": [
    "#diamond pattern\n",
    "n=4\n",
    "for i in range(1,n+1):\n",
    "    print(\" \"*(n-i)+(2*i-1)*\"*\")\n",
    "for i in range(n-1,0,-1):\n",
    "    print(\" \"*(n-i)+(2*i-1)*\"*\")\n"
   ]
  },
  {
   "cell_type": "code",
   "execution_count": 79,
   "id": "3f2725c8",
   "metadata": {},
   "outputs": [
    {
     "name": "stdout",
     "output_type": "stream",
     "text": [
      "*************\n",
      " ***********\n",
      "  *********\n",
      "   *******\n",
      "    *****\n",
      "     ***\n",
      "      *\n",
      "     ***\n",
      "    *****\n",
      "   *******\n",
      "  *********\n",
      " ***********\n",
      "*************\n"
     ]
    }
   ],
   "source": [
    "#hourhlass pattern\n",
    "n=7\n",
    "for i in range(n,0,-1):\n",
    "    print(\" \"*(n-i)+(2*i-1)*\"*\")\n",
    "for i in range(2,n+1):\n",
    "    print(\" \"*(n-i)+(2*i-1)*\"*\")\n",
    "    \n",
    "    "
   ]
  },
  {
   "cell_type": "code",
   "execution_count": 80,
   "id": "ca3f227c",
   "metadata": {},
   "outputs": [
    {
     "name": "stdout",
     "output_type": "stream",
     "text": [
      "* * * * * \n",
      "*       * \n",
      "*       * \n",
      "*       * \n",
      "* * * * * \n"
     ]
    }
   ],
   "source": [
    "#hallow square pyramid\n",
    "n=5\n",
    "for i in range(n):\n",
    "    for j in range(n):\n",
    "        if i==0 or i==n-1 or j==0 or j==n-1:\n",
    "            print(\"*\",end=\" \")\n",
    "        else:\n",
    "            print(\" \",end=\" \")\n",
    "    print()"
   ]
  },
  {
   "cell_type": "code",
   "execution_count": 105,
   "id": "afc17973",
   "metadata": {},
   "outputs": [
    {
     "name": "stdout",
     "output_type": "stream",
     "text": [
      "    *\n",
      "   * *\n",
      "  *   *\n",
      " *     *\n",
      "*********\n"
     ]
    }
   ],
   "source": [
    "#hallow  full pyramid\n",
    "n=5\n",
    "for i in range(1,n+1):\n",
    "    for j in range(n-i):\n",
    "        print(\" \",end=\"\")\n",
    "    for j in range(1,2*i):\n",
    "        if j==1 or j==2*i-1 or i==n:\n",
    "            print(\"*\",end=\"\")\n",
    "        else:\n",
    "            print(\" \",end=\"\")\n",
    "    print()\n",
    "        "
   ]
  },
  {
   "cell_type": "code",
   "execution_count": 93,
   "id": "d4ff2643",
   "metadata": {},
   "outputs": [
    {
     "name": "stdout",
     "output_type": "stream",
     "text": [
      "*********\n",
      " *     *\n",
      "  *   *\n",
      "   * *\n",
      "    *\n"
     ]
    }
   ],
   "source": [
    "#halllow inverted pyramid\n",
    "n=5\n",
    "for i in range(n,0,-1):\n",
    "    for j in range(n-i):\n",
    "        print(\" \",end=\"\")\n",
    "    for j in range(1,2*i):\n",
    "        if j==1 or j==2*i-1 or i==n:\n",
    "            print(\"*\",end=\"\")\n",
    "        else:\n",
    "            print(\" \",end=\"\")\n",
    "    print()"
   ]
  },
  {
   "cell_type": "code",
   "execution_count": 103,
   "id": "1024105a",
   "metadata": {},
   "outputs": [
    {
     "name": "stdout",
     "output_type": "stream",
     "text": [
      "    *\n",
      "   * *\n",
      "  *   *\n",
      " *     *\n",
      "*       *\n",
      "*       *\n",
      " *     *\n",
      "  *   *\n",
      "   * *\n",
      "    *\n"
     ]
    }
   ],
   "source": [
    "#hallow diamond pyramid\n",
    "n=5\n",
    "for i in range(1,n+1):\n",
    "    for j in range(n-i):\n",
    "        print(\" \",end=\"\")\n",
    "    for j in range(1,2*i):\n",
    "        if j==1 or j==2*i-1 or i==0:\n",
    "            print(\"*\",end=\"\")\n",
    "        else:\n",
    "            print(\" \",end=\"\")\n",
    "    print()\n",
    "for i in range(n,0,-1):\n",
    "    for j in range(n-i):\n",
    "        print(\" \",end=\"\")\n",
    "    for j in range(1,2*i):\n",
    "        if j==1 or j==2*i-1 or i==0:\n",
    "            print(\"*\",end=\"\")\n",
    "        else:\n",
    "            print(\" \",end=\"\")\n",
    "    print()"
   ]
  },
  {
   "cell_type": "code",
   "execution_count": 106,
   "id": "d4a77911",
   "metadata": {},
   "outputs": [
    {
     "name": "stdout",
     "output_type": "stream",
     "text": [
      "*********\n",
      " *     *\n",
      "  *   *\n",
      "   * *\n",
      "    *\n",
      "   * *\n",
      "  *   *\n",
      " *     *\n",
      "*********\n"
     ]
    }
   ],
   "source": [
    "#haloow hourglass pattern\n",
    "for i in range(n,0,-1):\n",
    "    for j in range(n-i):\n",
    "        print(\" \",end=\"\")\n",
    "    for j in range(1,2*i):\n",
    "        if j==1 or j==2*i-1 or i==n:\n",
    "            print(\"*\",end=\"\")\n",
    "        else:\n",
    "            print(\" \",end=\"\")\n",
    "    print()\n",
    "for i in range(2,n+1):\n",
    "    for j in range(n-i):\n",
    "        print(\" \",end=\"\")\n",
    "    for j in range(1,2*i):\n",
    "        if j==1 or j==2*i-1 or i==n:\n",
    "            print(\"*\",end=\"\")\n",
    "        else:\n",
    "            print(\" \",end=\"\")\n",
    "    print()"
   ]
  },
  {
   "cell_type": "code",
   "execution_count": 117,
   "id": "a05eacc4",
   "metadata": {},
   "outputs": [
    {
     "name": "stdout",
     "output_type": "stream",
     "text": [
      "1 \n",
      "2 3 \n",
      "4 5 6 \n",
      "7 8 9 10 \n"
     ]
    }
   ],
   "source": [
    "#floyds trinagle\n",
    "n=4\n",
    "num=1\n",
    "for i in range(1,n+1):\n",
    "    for j in range(i):\n",
    "        print(num,end=\" \")\n",
    "        num+=1\n",
    "    print()"
   ]
  },
  {
   "cell_type": "code",
   "execution_count": 125,
   "id": "b5068ce1",
   "metadata": {},
   "outputs": [
    {
     "name": "stdout",
     "output_type": "stream",
     "text": [
      "   1    \n",
      "  1 1   \n",
      " 1 2 1  \n",
      "1 3 3 1 \n"
     ]
    }
   ],
   "source": [
    "#pascalss trinagle\n",
    "n = 4\n",
    "num=[]\n",
    "for i in range(n):\n",
    "    row = [1] * (i + 1)\n",
    "    for j in range(1, i):\n",
    "        row[j] = num[i - 1][j - 1] +num[i - 1][j]\n",
    "    num.append(row)\n",
    "for row in num:\n",
    "    print(\" \".join(map(str,row)).center(n * 2))\n"
   ]
  },
  {
   "cell_type": "code",
   "execution_count": 13,
   "id": "7d958fa9",
   "metadata": {},
   "outputs": [
    {
     "name": "stdout",
     "output_type": "stream",
     "text": [
      "* \n",
      "* * \n",
      "* * * \n",
      "* * * * \n",
      "* * * * * \n",
      "* * * * \n",
      "* * * \n",
      "* * \n",
      "* \n",
      "    * \n",
      "   * * \n",
      "  * * * \n",
      " * * * * \n",
      "* * * * * \n",
      "* * * * * \n",
      " * * * * \n",
      "  * * * \n",
      "   * * \n",
      "    * \n"
     ]
    }
   ],
   "source": [
    "#butterfly pattern\n",
    "for i in range(1,6):\n",
    "    print(i*\"* \")\n",
    "for j in range(4,0,-1):\n",
    "    print(j*\"* \")\n"
   ]
  },
  {
   "cell_type": "code",
   "execution_count": 15,
   "id": "77ec0ab8",
   "metadata": {},
   "outputs": [
    {
     "name": "stdout",
     "output_type": "stream",
     "text": [
      "*        *\n",
      "**      **\n",
      "***    ***\n",
      "****  ****\n",
      "**********\n",
      "****  ****\n",
      "***    ***\n",
      "**      **\n",
      "*        *\n"
     ]
    }
   ],
   "source": [
    "rows=5\n",
    "for i in range(1, rows + 1):\n",
    "    print(\"*\" * i + \" \" * (2 * (rows - i)) + \"*\" * i)\n",
    "for i in range(rows - 1, 0, -1):\n",
    "    print(\"*\" * i + \" \" * (2 * (rows - i)) + \"*\" * i)\n",
    "\n"
   ]
  },
  {
   "cell_type": "code",
   "execution_count": 6,
   "id": "147a8a8b",
   "metadata": {},
   "outputs": [
    {
     "name": "stdout",
     "output_type": "stream",
     "text": [
      "7\n",
      "0 1 1 2 3 5 8 "
     ]
    }
   ],
   "source": [
    "#fibonacci series\n",
    "n=int(input())\n",
    "a=0\n",
    "b=1\n",
    "for _ in range(n):\n",
    "    print(a,end=\" \")\n",
    "    a,b=b,a+b\n",
    "    "
   ]
  }
 ],
 "metadata": {
  "kernelspec": {
   "display_name": "Python 3 (ipykernel)",
   "language": "python",
   "name": "python3"
  },
  "language_info": {
   "codemirror_mode": {
    "name": "ipython",
    "version": 3
   },
   "file_extension": ".py",
   "mimetype": "text/x-python",
   "name": "python",
   "nbconvert_exporter": "python",
   "pygments_lexer": "ipython3",
   "version": "3.11.5"
  }
 },
 "nbformat": 4,
 "nbformat_minor": 5
}
